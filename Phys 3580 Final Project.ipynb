{
 "cells": [
  {
   "cell_type": "markdown",
   "id": "25a11926",
   "metadata": {},
   "source": [
    "# Preamble\n",
    "\n",
    "For my final project I am furthering the analysis of an original research project that I'm in the midst of right now. It is well known that geomagnetic storms can induce electric current in transformers, substations, and transmission lines. (see: https://www.swpc.noaa.gov/impacts/electric-power-transmission) The question I am investigating is whether or not geogmagnetic activity leads to a spike in the energy price. The project will be discussed further in the hypothesis section.\n",
    "\n",
    "\n",
    "The following libraries were required for the analysis performed:\n",
    " - numpy\n",
    " - pandas\n",
    " - scipy.stats\n",
    " - matplotlib.pyplot\n",
    " - sklearn\n",
    " - seaborn\n"
   ]
  },
  {
   "cell_type": "code",
   "execution_count": 237,
   "id": "8adcf054",
   "metadata": {},
   "outputs": [],
   "source": [
    "import numpy as np\n",
    "import pandas as pd\n",
    "import scipy.stats\n",
    "import seaborn as sns\n",
    "from sklearn import preprocessing, svm\n",
    "from sklearn.model_selection import train_test_split\n",
    "from sklearn.linear_model import LinearRegression"
   ]
  },
  {
   "cell_type": "markdown",
   "id": "0236f7d0",
   "metadata": {},
   "source": [
    "# Data\n",
    " \n",
    "There are two sources for my data: the Kp Index, a value measuring geomagnetic disturbances, published by the Space Weather Prediction Center at NOAA, made available at: https://www-app3.gfz-potsdam.de/kp_index/Kp_ap_since_1932.txt, info about https://www.swpc.noaa.gov/products/planetary-k-index. The Kp values are published every three hours in UCT and are floats ranging from 0 to 9. Any value above 5 or 6 is considered to be storm level. I converted the timestamp into ET and extended the 3hr intervals into 5min intervals.\n",
    "\n",
    "The other source of data is wholesale energy price data. I chose the NYISO (NY Independent System Operator) market because they have data available at 5-min intervals and their data is easy to scrape from the website. The data accessed is NYISO LBMP Zonal data in 5min intervals, downloaded from: http://mis.nyiso.com/public/P-24Alist.htm.\n",
    "\n",
    "The data for both sources is from '2000-01-01 00:05:00' to '2022-01-02 00:05:00' (ET). There are 16 regional hubs in the NYISO market, so the hubs prices were averaged for each timestamp to get the overall grid market price for ease of analysis. NYISO is a small market geographically and all the hubs have about the same latitude so this should not affect the results. \n",
    "\n",
    "Finally, after wrangling with making sure each dataset's timestamps aligned, I merged them based on their ET column.\n",
    "\n",
    "I did the scraping and initial cleaning awhile ago, and the process was quite time-consuming, onerous, and entailed downloading and unzipping multiple zip files. And so I just uploaded the merged dataset ('NYISO merge.csv') which contains the results of that merging.\n",
    "\n",
    "The dataset has 2509248 rows x 16 columns. The columns names are \n",
    "\n",
    "'Unnamed: 0'\n",
    "\n",
    "'Kp'\n",
    "\n",
    "'Time Stamp'\n",
    "\n",
    "'LBMP($/MWHr)'\n",
    "\n",
    "We are interested in the relationship between Kp (maybe with a time lag) and LBMP ($/MWHr) spikes."
   ]
  },
  {
   "cell_type": "code",
   "execution_count": 238,
   "id": "a24fe56c",
   "metadata": {},
   "outputs": [],
   "source": [
    "df = pd.read_csv('NYISO merge.csv')\n",
    "df = df.drop(columns = ['Unnamed: 0'])"
   ]
  },
  {
   "cell_type": "code",
   "execution_count": 239,
   "id": "ac804426",
   "metadata": {},
   "outputs": [],
   "source": [
    "#define price spikes by normalization of prices in next 3 hours\n",
    "df['3hr avg'] = df['LBMP ($/MWHr)'].rolling(36).mean()\n",
    "df['3hr std'] = df['LBMP ($/MWHr)'].rolling(36).std()\n",
    "df['3hr z-scores'] = (df['LBMP ($/MWHr)'] - df['3hr avg'])/df['3hr std']\n",
    "df['3hr p-values'] = scipy.stats.norm.sf(abs(df['3hr z-scores']))*2\n",
    "\n",
    "#binary variable that equals 1 if price at 5 min interval is a spike\n",
    "df['3hr spike'] = np.where(df['3hr p-values'] <= 0.001,1,0)\n",
    "\n",
    "#binary variable that returns True if spike occurs in next 3 hours\n",
    "df['3hr spike: any'] = df['3hr spike'].shift(-35).eq(1).rolling(36).apply(lambda x: x.any())\n",
    "\n",
    "#binary variable that returns True if spike occurs in next 24 hours\n",
    "df['24hr spike: any'] = df['3hr spike'].shift(-287).eq(1).rolling(288).apply(lambda x: x.any())\n",
    "\n",
    "#count number of spikes that exist in next 3 hours\n",
    "df['3hr spike: sum'] = df['3hr spike'].shift(-35).eq(1).rolling(36).sum()\n",
    "\n",
    "#count number of spikes that exist in next 24 hours\n",
    "df['24hr spike: sum'] = df['3hr spike'].shift(-287).eq(1).rolling(288).sum()"
   ]
  },
  {
   "cell_type": "code",
   "execution_count": 240,
   "id": "b15fa630",
   "metadata": {},
   "outputs": [],
   "source": [
    "df = df.dropna()\n",
    "df = df.reset_index()"
   ]
  },
  {
   "cell_type": "code",
   "execution_count": 241,
   "id": "7c145b1e",
   "metadata": {},
   "outputs": [
    {
     "data": {
      "text/html": [
       "<div>\n",
       "<style scoped>\n",
       "    .dataframe tbody tr th:only-of-type {\n",
       "        vertical-align: middle;\n",
       "    }\n",
       "\n",
       "    .dataframe tbody tr th {\n",
       "        vertical-align: top;\n",
       "    }\n",
       "\n",
       "    .dataframe thead th {\n",
       "        text-align: right;\n",
       "    }\n",
       "</style>\n",
       "<table border=\"1\" class=\"dataframe\">\n",
       "  <thead>\n",
       "    <tr style=\"text-align: right;\">\n",
       "      <th></th>\n",
       "      <th>index</th>\n",
       "      <th>Kp</th>\n",
       "      <th>ET</th>\n",
       "      <th>Time Stamp</th>\n",
       "      <th>LBMP ($/MWHr)</th>\n",
       "      <th>3hr avg</th>\n",
       "      <th>3hr std</th>\n",
       "      <th>3hr z-scores</th>\n",
       "      <th>3hr p-values</th>\n",
       "      <th>3hr spike</th>\n",
       "      <th>3hr spike: any</th>\n",
       "      <th>24hr spike: any</th>\n",
       "      <th>3hr spike: sum</th>\n",
       "      <th>24hr spike: sum</th>\n",
       "    </tr>\n",
       "  </thead>\n",
       "  <tbody>\n",
       "    <tr>\n",
       "      <th>0</th>\n",
       "      <td>287</td>\n",
       "      <td>3.333</td>\n",
       "      <td>2000-01-02 15:05:00</td>\n",
       "      <td>01/02/2000 15:00:34</td>\n",
       "      <td>15.382667</td>\n",
       "      <td>16.264130</td>\n",
       "      <td>0.553539</td>\n",
       "      <td>-1.592415</td>\n",
       "      <td>0.111292</td>\n",
       "      <td>0</td>\n",
       "      <td>1.0</td>\n",
       "      <td>1.0</td>\n",
       "      <td>8.0</td>\n",
       "      <td>14.0</td>\n",
       "    </tr>\n",
       "    <tr>\n",
       "      <th>1</th>\n",
       "      <td>288</td>\n",
       "      <td>3.333</td>\n",
       "      <td>2000-01-02 15:05:00</td>\n",
       "      <td>01/02/2000 15:01:34</td>\n",
       "      <td>15.568000</td>\n",
       "      <td>16.219574</td>\n",
       "      <td>0.542825</td>\n",
       "      <td>-1.200339</td>\n",
       "      <td>0.230008</td>\n",
       "      <td>0</td>\n",
       "      <td>1.0</td>\n",
       "      <td>1.0</td>\n",
       "      <td>8.0</td>\n",
       "      <td>14.0</td>\n",
       "    </tr>\n",
       "    <tr>\n",
       "      <th>2</th>\n",
       "      <td>289</td>\n",
       "      <td>3.333</td>\n",
       "      <td>2000-01-02 15:10:00</td>\n",
       "      <td>01/02/2000 15:06:34</td>\n",
       "      <td>15.252667</td>\n",
       "      <td>16.160741</td>\n",
       "      <td>0.529106</td>\n",
       "      <td>-1.716242</td>\n",
       "      <td>0.086118</td>\n",
       "      <td>0</td>\n",
       "      <td>1.0</td>\n",
       "      <td>1.0</td>\n",
       "      <td>8.0</td>\n",
       "      <td>14.0</td>\n",
       "    </tr>\n",
       "    <tr>\n",
       "      <th>3</th>\n",
       "      <td>290</td>\n",
       "      <td>3.333</td>\n",
       "      <td>2000-01-02 15:15:00</td>\n",
       "      <td>01/02/2000 15:11:34</td>\n",
       "      <td>15.049333</td>\n",
       "      <td>16.101241</td>\n",
       "      <td>0.530337</td>\n",
       "      <td>-1.983469</td>\n",
       "      <td>0.047315</td>\n",
       "      <td>0</td>\n",
       "      <td>1.0</td>\n",
       "      <td>1.0</td>\n",
       "      <td>8.0</td>\n",
       "      <td>14.0</td>\n",
       "    </tr>\n",
       "    <tr>\n",
       "      <th>4</th>\n",
       "      <td>291</td>\n",
       "      <td>3.333</td>\n",
       "      <td>2000-01-02 15:20:00</td>\n",
       "      <td>01/02/2000 15:16:34</td>\n",
       "      <td>15.228000</td>\n",
       "      <td>16.055519</td>\n",
       "      <td>0.532760</td>\n",
       "      <td>-1.553268</td>\n",
       "      <td>0.120359</td>\n",
       "      <td>0</td>\n",
       "      <td>1.0</td>\n",
       "      <td>1.0</td>\n",
       "      <td>8.0</td>\n",
       "      <td>14.0</td>\n",
       "    </tr>\n",
       "    <tr>\n",
       "      <th>...</th>\n",
       "      <td>...</td>\n",
       "      <td>...</td>\n",
       "      <td>...</td>\n",
       "      <td>...</td>\n",
       "      <td>...</td>\n",
       "      <td>...</td>\n",
       "      <td>...</td>\n",
       "      <td>...</td>\n",
       "      <td>...</td>\n",
       "      <td>...</td>\n",
       "      <td>...</td>\n",
       "      <td>...</td>\n",
       "      <td>...</td>\n",
       "      <td>...</td>\n",
       "    </tr>\n",
       "    <tr>\n",
       "      <th>2508951</th>\n",
       "      <td>2509243</td>\n",
       "      <td>1.667</td>\n",
       "      <td>2022-01-01 23:45:00</td>\n",
       "      <td>01/01/2022 23:40:00</td>\n",
       "      <td>23.658000</td>\n",
       "      <td>27.375833</td>\n",
       "      <td>2.361228</td>\n",
       "      <td>-1.574534</td>\n",
       "      <td>0.115364</td>\n",
       "      <td>0</td>\n",
       "      <td>0.0</td>\n",
       "      <td>0.0</td>\n",
       "      <td>0.0</td>\n",
       "      <td>0.0</td>\n",
       "    </tr>\n",
       "    <tr>\n",
       "      <th>2508952</th>\n",
       "      <td>2509244</td>\n",
       "      <td>1.667</td>\n",
       "      <td>2022-01-01 23:50:00</td>\n",
       "      <td>01/01/2022 23:45:00</td>\n",
       "      <td>23.661333</td>\n",
       "      <td>27.282296</td>\n",
       "      <td>2.440731</td>\n",
       "      <td>-1.483557</td>\n",
       "      <td>0.137927</td>\n",
       "      <td>0</td>\n",
       "      <td>0.0</td>\n",
       "      <td>0.0</td>\n",
       "      <td>0.0</td>\n",
       "      <td>0.0</td>\n",
       "    </tr>\n",
       "    <tr>\n",
       "      <th>2508953</th>\n",
       "      <td>2509245</td>\n",
       "      <td>1.667</td>\n",
       "      <td>2022-01-01 23:55:00</td>\n",
       "      <td>01/01/2022 23:50:00</td>\n",
       "      <td>27.986000</td>\n",
       "      <td>27.268667</td>\n",
       "      <td>2.435235</td>\n",
       "      <td>0.294564</td>\n",
       "      <td>0.768327</td>\n",
       "      <td>0</td>\n",
       "      <td>0.0</td>\n",
       "      <td>0.0</td>\n",
       "      <td>0.0</td>\n",
       "      <td>0.0</td>\n",
       "    </tr>\n",
       "    <tr>\n",
       "      <th>2508954</th>\n",
       "      <td>2509246</td>\n",
       "      <td>1.667</td>\n",
       "      <td>2022-01-02 00:00:00</td>\n",
       "      <td>01/01/2022 23:55:00</td>\n",
       "      <td>28.029333</td>\n",
       "      <td>27.256463</td>\n",
       "      <td>2.430145</td>\n",
       "      <td>0.318035</td>\n",
       "      <td>0.750459</td>\n",
       "      <td>0</td>\n",
       "      <td>0.0</td>\n",
       "      <td>0.0</td>\n",
       "      <td>0.0</td>\n",
       "      <td>0.0</td>\n",
       "    </tr>\n",
       "    <tr>\n",
       "      <th>2508955</th>\n",
       "      <td>2509247</td>\n",
       "      <td>1.667</td>\n",
       "      <td>2022-01-02 00:05:00</td>\n",
       "      <td>01/02/2022 00:00:00</td>\n",
       "      <td>29.300000</td>\n",
       "      <td>27.235907</td>\n",
       "      <td>2.408965</td>\n",
       "      <td>0.856838</td>\n",
       "      <td>0.391534</td>\n",
       "      <td>0</td>\n",
       "      <td>0.0</td>\n",
       "      <td>0.0</td>\n",
       "      <td>0.0</td>\n",
       "      <td>0.0</td>\n",
       "    </tr>\n",
       "  </tbody>\n",
       "</table>\n",
       "<p>2508956 rows × 14 columns</p>\n",
       "</div>"
      ],
      "text/plain": [
       "           index     Kp                   ET           Time Stamp  \\\n",
       "0            287  3.333  2000-01-02 15:05:00  01/02/2000 15:00:34   \n",
       "1            288  3.333  2000-01-02 15:05:00  01/02/2000 15:01:34   \n",
       "2            289  3.333  2000-01-02 15:10:00  01/02/2000 15:06:34   \n",
       "3            290  3.333  2000-01-02 15:15:00  01/02/2000 15:11:34   \n",
       "4            291  3.333  2000-01-02 15:20:00  01/02/2000 15:16:34   \n",
       "...          ...    ...                  ...                  ...   \n",
       "2508951  2509243  1.667  2022-01-01 23:45:00  01/01/2022 23:40:00   \n",
       "2508952  2509244  1.667  2022-01-01 23:50:00  01/01/2022 23:45:00   \n",
       "2508953  2509245  1.667  2022-01-01 23:55:00  01/01/2022 23:50:00   \n",
       "2508954  2509246  1.667  2022-01-02 00:00:00  01/01/2022 23:55:00   \n",
       "2508955  2509247  1.667  2022-01-02 00:05:00  01/02/2022 00:00:00   \n",
       "\n",
       "         LBMP ($/MWHr)    3hr avg   3hr std  3hr z-scores  3hr p-values  \\\n",
       "0            15.382667  16.264130  0.553539     -1.592415      0.111292   \n",
       "1            15.568000  16.219574  0.542825     -1.200339      0.230008   \n",
       "2            15.252667  16.160741  0.529106     -1.716242      0.086118   \n",
       "3            15.049333  16.101241  0.530337     -1.983469      0.047315   \n",
       "4            15.228000  16.055519  0.532760     -1.553268      0.120359   \n",
       "...                ...        ...       ...           ...           ...   \n",
       "2508951      23.658000  27.375833  2.361228     -1.574534      0.115364   \n",
       "2508952      23.661333  27.282296  2.440731     -1.483557      0.137927   \n",
       "2508953      27.986000  27.268667  2.435235      0.294564      0.768327   \n",
       "2508954      28.029333  27.256463  2.430145      0.318035      0.750459   \n",
       "2508955      29.300000  27.235907  2.408965      0.856838      0.391534   \n",
       "\n",
       "         3hr spike  3hr spike: any  24hr spike: any  3hr spike: sum  \\\n",
       "0                0             1.0              1.0             8.0   \n",
       "1                0             1.0              1.0             8.0   \n",
       "2                0             1.0              1.0             8.0   \n",
       "3                0             1.0              1.0             8.0   \n",
       "4                0             1.0              1.0             8.0   \n",
       "...            ...             ...              ...             ...   \n",
       "2508951          0             0.0              0.0             0.0   \n",
       "2508952          0             0.0              0.0             0.0   \n",
       "2508953          0             0.0              0.0             0.0   \n",
       "2508954          0             0.0              0.0             0.0   \n",
       "2508955          0             0.0              0.0             0.0   \n",
       "\n",
       "         24hr spike: sum  \n",
       "0                   14.0  \n",
       "1                   14.0  \n",
       "2                   14.0  \n",
       "3                   14.0  \n",
       "4                   14.0  \n",
       "...                  ...  \n",
       "2508951              0.0  \n",
       "2508952              0.0  \n",
       "2508953              0.0  \n",
       "2508954              0.0  \n",
       "2508955              0.0  \n",
       "\n",
       "[2508956 rows x 14 columns]"
      ]
     },
     "execution_count": 241,
     "metadata": {},
     "output_type": "execute_result"
    }
   ],
   "source": [
    "df"
   ]
  },
  {
   "cell_type": "markdown",
   "id": "d3aafa37",
   "metadata": {},
   "source": [
    "# Hypothesis"
   ]
  },
  {
   "cell_type": "markdown",
   "id": "9f182b34",
   "metadata": {},
   "source": [
    "The idea is that there is a relationship between geomagnetic storms and price spikes in wholesale energy markets. There are many ways to try to validate this relationship. We are not sure at what threshhold, duration, or intensity of geomagnetic activity is required to predict wholesale energy prices. In previous analyses of my research project, I selected three sample storm events with intense geomagnetic activity, and observe multiple significant spikes during those 1-2 day intervals. I also previously attempted to examine the fraction of 3hr-intervals with Kp above a certain value that observe a spike in that interval. The fractions were not substantially different than the overall fraction of spikes that occur. One potential reason for this is that when a energy spike occurs in a storm is relatively unpredictable (for various reasons), even for relatively high Kp values; geomagnetically-induced spikes do not occur uniformly throughout a storm, but could happen at any point of a storm. Therefore, we might not necessarily expect a spike to systematically occur in a single 3hr period with a high KP value, but rather during storm events composed of multiple consecutive 3hr intervals with high Kp values.\n",
    "\n",
    "In this stage of the study, I do a hitherto novel step of defining a storm as any consecutive period of 3hr intervals with Kp values above or equal to 5.0 for each 3hr interval. For each storm I will calculate the length of the storm (number of 3hr intervals) and how many spikes are observed for each storm. The hypothesis is that there is a positive linear relationship between the length of the storm and the number of spikes for storms of Kp >=5; and that the existence of such a storm has predictive ability for the occurence of a spike."
   ]
  },
  {
   "cell_type": "markdown",
   "id": "60af20f5",
   "metadata": {},
   "source": [
    "# Analysis"
   ]
  },
  {
   "cell_type": "code",
   "execution_count": 242,
   "id": "d7ef970f",
   "metadata": {},
   "outputs": [
    {
     "name": "stdout",
     "output_type": "stream",
     "text": [
      "total number of spikes is 52664 which is this percent of the total time: 0.020990403976793536\n",
      "fraction of rows that have a spike in next 3 hours is 0.42674124217403575\n",
      "fraction of rows that have a spike in next 24 hours is 0.9945786215461729\n",
      "average number of spike in next 3 hours is 0.7556174759541419\n",
      "average number of spikes in next 24 hours is 6.044117154704985\n"
     ]
    }
   ],
   "source": [
    "print('total number of spikes is', df['3hr spike'].sum(), 'which is this percent of the total time:', df['3hr spike'].sum()/len(df))\n",
    "print('fraction of rows that have a spike in next 3 hours is', df['3hr spike: any'].sum()/len(df))\n",
    "print('fraction of rows that have a spike in next 24 hours is', df['24hr spike: any'].sum()/len(df))\n",
    "print('average number of spike in next 3 hours is', df['3hr spike: sum'].mean())\n",
    "print('average number of spikes in next 24 hours is', df['24hr spike: sum'].mean())"
   ]
  },
  {
   "cell_type": "code",
   "execution_count": 243,
   "id": "7112607d",
   "metadata": {},
   "outputs": [],
   "source": [
    "###calculate the proportion of spikes that happen during a storm\n",
    "spike_counts = []\n",
    "spike_count = 0\n",
    "storm_lengths = []\n",
    "storm_length = 0\n",
    "spike_when = []\n",
    "spike_whens = []\n",
    "\n",
    "for i in range(1,len(df)):\n",
    "    if df['Kp'][i] >= 5.0:\n",
    "        storm_length += 1 \n",
    "        spike_count += df['3hr spike'][i]\n",
    "        spike_when.append(storm_length)\n",
    "    \n",
    "    if df['Kp'][i] < 5.0:\n",
    "        if df['Kp'][i-1] >= 5.0:\n",
    "            spike_counts.append(spike_count)\n",
    "            spike_count=0\n",
    "            storm_lengths.append(storm_length)\n",
    "            storm_length=0\n",
    "storm_lengths = np.divide(storm_lengths,36)"
   ]
  },
  {
   "cell_type": "code",
   "execution_count": 244,
   "id": "bd02bc50",
   "metadata": {},
   "outputs": [
    {
     "name": "stdout",
     "output_type": "stream",
     "text": [
      "fraction of > kp5 storms with at least one spike 0.6224226804123711\n",
      "mean spikes per storm: 1.8492268041237114 +- 2.486914085811847\n",
      "mean length of storm: 2.479274054982818 +- 2.4927832287205076\n",
      "number of storms, this will be number of observations 776\n"
     ]
    }
   ],
   "source": [
    "print(\"fraction of > kp5 storms with at least one spike\", (len(spike_counts)-spike_counts.count(0))/len(spike_counts))\n",
    "print('mean spikes per storm:', np.mean(spike_counts), '+-',  np.std(spike_counts))\n",
    "print('mean length of storm:', np.mean(storm_lengths), '+-', np.std(storm_lengths))\n",
    "print('number of storms, this will be number of observations', len(storm_lengths))"
   ]
  },
  {
   "cell_type": "code",
   "execution_count": 245,
   "id": "810f9785",
   "metadata": {},
   "outputs": [
    {
     "data": {
      "image/png": "[encoded data removed]",
      "text/plain": [
       "<Figure size 500x500 with 1 Axes>"
      ]
     },
     "metadata": {},
     "output_type": "display_data"
    }
   ],
   "source": [
    "#scatterplot using seaborn\n",
    "\n",
    "data = pd.DataFrame({'storm_lengths': storm_lengths, 'spike_counts': spike_counts})\n",
    "sns.lmplot(x='storm_lengths', y='spike_counts', data=data)\n",
    "plt.show()"
   ]
  },
  {
   "cell_type": "code",
   "execution_count": 246,
   "id": "929e45dd",
   "metadata": {},
   "outputs": [
    {
     "name": "stdout",
     "output_type": "stream",
     "text": [
      "0.5088659193702143\n"
     ]
    }
   ],
   "source": [
    "X = np.array(storm_lengths).reshape(-1, 1)\n",
    "Y = np.array(spike_counts).reshape(-1,1)\n",
    "\n",
    "# Splitting the data into training and testing data\n",
    "X_train, X_test, y_train, y_test = train_test_split(X, Y, test_size = 0.25, random_state=42)\n",
    "\n",
    "#model is linear regression\n",
    "regr = LinearRegression()\n",
    "\n",
    "#train the model & print regression score of test\n",
    "regr.fit(X_train, y_train)\n",
    "print(regr.score(X_test, y_test))"
   ]
  },
  {
   "cell_type": "code",
   "execution_count": 247,
   "id": "d2a4881e",
   "metadata": {},
   "outputs": [
    {
     "name": "stdout",
     "output_type": "stream",
     "text": [
      "number of spikes for each extra storm length, or b=  [[0.7512817]]\n",
      "number of spikes for 0 storm length, or a= [-0.05405038]\n"
     ]
    }
   ],
   "source": [
    "print('number of spikes for each extra storm length, or b= ', regr.coef_)\n",
    "print('number of spikes for 0 storm length, or a=', regr.intercept_)"
   ]
  },
  {
   "cell_type": "code",
   "execution_count": 248,
   "id": "7e7d01f4",
   "metadata": {},
   "outputs": [
    {
     "data": {
      "image/png": "[encoded data removed]",
      "text/plain": [
       "<Figure size 640x480 with 1 Axes>"
      ]
     },
     "metadata": {},
     "output_type": "display_data"
    }
   ],
   "source": [
    "#graphing linear regression with test values\n",
    "\n",
    "y_pred = regr.predict(X_test)\n",
    "plt.scatter(X_test, y_test, color ='b')\n",
    "plt.plot(X_test, y_pred, color ='k')\n",
    "plt.xlabel('storm length (3hr)')\n",
    "plt.ylabel('spike count')\n",
    "plt.show()"
   ]
  },
  {
   "cell_type": "code",
   "execution_count": 249,
   "id": "61a6cae1",
   "metadata": {},
   "outputs": [
    {
     "name": "stdout",
     "output_type": "stream",
     "text": [
      "MAE: 1.2401518111437793\n",
      "MSE: 2.941584650846098\n",
      "RMSE: 1.715104851268895\n"
     ]
    }
   ],
   "source": [
    "from sklearn.metrics import mean_absolute_error, mean_squared_error\n",
    "\n",
    "mae = mean_absolute_error(y_true=y_test,y_pred=y_pred)\n",
    "#squared True returns MSE value, False returns RMSE value.\n",
    "mse = mean_squared_error(y_true=y_test,y_pred=y_pred) #default=True\n",
    "rmse = mean_squared_error(y_true=y_test,y_pred=y_pred,squared=False)\n",
    "\n",
    "print(\"MAE:\",mae)\n",
    "print(\"MSE:\",mse)\n",
    "print(\"RMSE:\",rmse)"
   ]
  },
  {
   "cell_type": "code",
   "execution_count": 250,
   "id": "540976d3",
   "metadata": {},
   "outputs": [
    {
     "name": "stdout",
     "output_type": "stream",
     "text": [
      "base case: number of spikes for each extra storm length, or bprime=  [[1.32362682]]\n",
      "base case: number of spikes for 0 storm length, or aprime = [-0.00015556]\n"
     ]
    }
   ],
   "source": [
    "#okay we see a linear relationship between length of storm and number of spikes. but that is to be expected.\n",
    "# in general, the longer the storm the more spikes will occur.\n",
    "# let's compare the parameters of the linear model to the overall number of spikes in a length of time\n",
    "# I assume the number of spikes vs length of time relationship is linear\n",
    "\n",
    "norm_num_spikes = np.linspace(start=df['3hr spike: sum'].mean(), stop = df['24hr spike: sum'].mean(), num=1000).reshape(-1, 1)\n",
    "norm_storm_length = np.linspace(start=1, stop=8, num=1000).reshape(-1, 1)\n",
    "\n",
    "#model is linear regression\n",
    "\n",
    "base = LinearRegression()\n",
    "\n",
    "#train the model\n",
    "base.fit(norm_num_spikes, norm_storm_length)\n",
    "#see coefficients\n",
    "print('base case: number of spikes for each extra storm length, or bprime= ', base.coef_)\n",
    "print('base case: number of spikes for 0 storm length, or aprime =', base.intercept_)\n",
    "\n",
    "\n",
    "baseXtest = np.linspace(start=0.0, stop=12.0,num=100).reshape(-1, 1)\n",
    "baseYpred = base.predict(baseXtest)"
   ]
  },
  {
   "cell_type": "code",
   "execution_count": 251,
   "id": "0e6675cd",
   "metadata": {},
   "outputs": [
    {
     "data": {
      "image/png": "[encoded data removed]",
      "text/plain": [
       "<Figure size 640x480 with 1 Axes>"
      ]
     },
     "metadata": {},
     "output_type": "display_data"
    }
   ],
   "source": [
    "#graphing linear regression with test values overlaid by base case\n",
    "fig, ax = plt.subplots()\n",
    "\n",
    "plt.scatter(X_test, y_test, color ='b')\n",
    "line1, = ax.plot(X_test, y_pred, color ='k', label='storm')\n",
    "line2, = ax.plot(baseXtest, baseYpred, color = 'r', label='base')\n",
    "ax.legend(handles=[line1, line2], handlelength=2, handleheight=2)\n",
    "plt.xlabel('storm length (3hr)')\n",
    "plt.ylabel('spike count')\n",
    "plt.show()"
   ]
  },
  {
   "cell_type": "markdown",
   "id": "df58fd39",
   "metadata": {},
   "source": [
    "# Results and Discussion\n",
    "\n",
    "Kp values are induced by space and atmosphere conditions, and are unlikely to be associated with energy prices. Thus, I assume they -- and by extension, the price spikes and length of storms -- are independent variables.\n",
    "\n",
    "\n"
   ]
  },
  {
   "cell_type": "markdown",
   "id": "b0fed116",
   "metadata": {},
   "source": [
    "Starting off with some descriptive statistics.\n",
    "\n",
    "Remember we defined a spike as a price normalized by the past 3 hours whose p-value is less than 0.001.\n",
    "\n",
    "Spikes occur among all 5 minute intervals about 2% of the time.\n",
    "Spikes occur among all 3hr intervals about 42.67% of the time.\n",
    "Spikes occur among all 24hr intervals about 99.46% of the time.\n",
    "\n",
    "The average number of spikes in a 3hr interval is 0.7556.\n",
    "The average number of spikes in a 24hr interval is 6.0441.\n",
    "\n",
    "So in general, we see that the longer the time interval, the more spikes occur. The occurrence of a spike is random variable (for the purposes of this analysis). I assume that its relationship with the time interval is linear.\n",
    "\n",
    "We have to examine the relationship of spikes against length of geomagnetic storms against this base condition and see of the strength of the relationship of the former is stronger than that of the latter.\n",
    "\n",
    "\n",
    "Let's see some basic descriptive statistics about our X variable, length of storms, and Y variable, number of spikes during that storm. Remember a storm is defined as a consecutive period of 3hr intervals where the Kp value exceeds 5.\n",
    "\n",
    "We have 776 storms or observations.\n",
    "\n",
    "About 62.24% of storms have at least one spike; and on average storms have 1.85 spikes with a standard deviation of 2.49 spikes. This seems a lot, but consider that the average length of the storm is 2.48 (3hr intervals) with a standard deviation of 2.49 (3hr intervals). If we divide the mean spikes per storm by the mean length of storm we get an average of about 0.746 spikes per 3hr storm interval, which is actually slightly lower than the overall average number of spikes in a 3hr interval, 0.7556.\n",
    "\n",
    "Let's move onto the linear regressions.\n",
    "\n",
    "A scatterplot of X and Y confirms our suspicion that a linear model would be best.\n",
    "\n",
    "SKlearn'slinear regression gives us the following coefficient values for a and b respectively: -0.05405038 and 0.7512817. \n",
    "\n",
    "So on average an extra 3hr duration for a storm is associated with an extra 0.7512817 spikes during that storm. Cool. That makes sense and is what we expected.  The  errors are decent as well:\n",
    "\n",
    "MAE: 1.2401518111437793\n",
    "\n",
    "MSE: 2.941584650846098\n",
    "\n",
    "RMSE: 1.715104851268895\n",
    "\n",
    "But the real question is how well does this compare to our base scenario. \n",
    "\n",
    "Using the overall average numbers of spikes in a 3hr interval and 24hr interval respectively we create a synthetic linear model that predicts the number of spikes for a duration of time from the dataset as a whole. The coefficients a' and b' are -0.00015556 and 1.32362682, respectively. As the last plot nicely illustrates, this linear relationship is even stronger than that of the storm events.\n"
   ]
  },
  {
   "cell_type": "markdown",
   "id": "fca53fd3",
   "metadata": {},
   "source": [
    "# Conclusion"
   ]
  },
  {
   "cell_type": "markdown",
   "id": "a8fd96f0",
   "metadata": {},
   "source": [
    "In this project, a storm is defined as any consecutive period of 3hr intervals with Kp values above or equal to 5.0 for each period of time. For each storm the length of tthe storm (number of 3hr intervals) and how many spikes are observed for each storm are calculated. The hypothesis was that there is a positive linear relationship between the length of the storm and the number of spikes for storms of Kp >=5; and that the existence of such a storm has predictive ability for the occurence of a spike. At face value, the longer the storm the more likely a spike is to occur (and a greater number of spikes). However, for the alternate to a storm -- no storm -- the longer the time interval the more likely a spike is to occur (and a greater number of spikes). It turns out that the relationship of the latter is stronger than that of the former, significantly discounting the hypothesis that the length of a geogmatic storm (as we've defined it) uniquely predicts the occurence of price spikes. Our hypothesis predicted the exact opposite! Thus, I reject the hypothesis. That does not prove there is no casual relationship between geomagnetic activity and price spikes, however. Next steps could be retrying the analysis with a higher Kp threshhold and/or more strict p-value threshhold and using a more complex model, such as DecisionTreeClassifier or DecisionTreeRegressor to predict if time-lagging Kp values can predict price spikes."
   ]
  }
 ],
 "metadata": {
  "kernelspec": {
   "display_name": "Python 3 (ipykernel)",
   "language": "python",
   "name": "python3"
  },
  "language_info": {
   "codemirror_mode": {
    "name": "ipython",
    "version": 3
   },
   "file_extension": ".py",
   "mimetype": "text/x-python",
   "name": "python",
   "nbconvert_exporter": "python",
   "pygments_lexer": "ipython3",
   "version": "3.9.12"
  }
 },
 "nbformat": 4,
 "nbformat_minor": 5
}
